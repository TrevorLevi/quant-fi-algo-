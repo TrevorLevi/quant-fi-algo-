{
 "cells": [
  {
   "cell_type": "code",
   "execution_count": 1,
   "id": "11bf44e2",
   "metadata": {
    "ExecuteTime": {
     "end_time": "2024-01-19T10:08:05.318642Z",
     "start_time": "2024-01-19T10:08:03.351445Z"
    }
   },
   "outputs": [
    {
     "name": "stderr",
     "output_type": "stream",
     "text": [
      "C:\\Users\\CYTech Student\\anaconda3\\lib\\site-packages\\scipy\\__init__.py:155: UserWarning: A NumPy version >=1.18.5 and <1.25.0 is required for this version of SciPy (detected version 1.26.0\n",
      "  warnings.warn(f\"A NumPy version >={np_minversion} and <{np_maxversion}\"\n"
     ]
    }
   ],
   "source": [
    "import pandas as pa \n",
    "import numpy as np \n",
    "import yfinance as yf \n",
    "import matplotlib.pyplot as plt \n",
    "from scipy.stats import norm "
   ]
  },
  {
   "cell_type": "code",
   "execution_count": 3,
   "id": "b7640504",
   "metadata": {
    "ExecuteTime": {
     "end_time": "2024-01-19T10:13:30.646502Z",
     "start_time": "2024-01-19T10:13:30.281094Z"
    }
   },
   "outputs": [
    {
     "name": "stderr",
     "output_type": "stream",
     "text": [
      "[*********************100%%**********************]  8 of 8 completed\n"
     ]
    },
    {
     "data": {
      "text/html": [
       "<div>\n",
       "<style scoped>\n",
       "    .dataframe tbody tr th:only-of-type {\n",
       "        vertical-align: middle;\n",
       "    }\n",
       "\n",
       "    .dataframe tbody tr th {\n",
       "        vertical-align: top;\n",
       "    }\n",
       "\n",
       "    .dataframe thead th {\n",
       "        text-align: right;\n",
       "    }\n",
       "</style>\n",
       "<table border=\"1\" class=\"dataframe\">\n",
       "  <thead>\n",
       "    <tr style=\"text-align: right;\">\n",
       "      <th></th>\n",
       "      <th>AAPL</th>\n",
       "      <th>AMZN</th>\n",
       "      <th>GOOG</th>\n",
       "      <th>META</th>\n",
       "      <th>MSFT</th>\n",
       "      <th>NFLX</th>\n",
       "      <th>NVDA</th>\n",
       "      <th>TSLA</th>\n",
       "    </tr>\n",
       "    <tr>\n",
       "      <th>Date</th>\n",
       "      <th></th>\n",
       "      <th></th>\n",
       "      <th></th>\n",
       "      <th></th>\n",
       "      <th></th>\n",
       "      <th></th>\n",
       "      <th></th>\n",
       "      <th></th>\n",
       "    </tr>\n",
       "  </thead>\n",
       "  <tbody>\n",
       "    <tr>\n",
       "      <th>2019-01-14</th>\n",
       "      <td>35.992905</td>\n",
       "      <td>80.860497</td>\n",
       "      <td>52.234501</td>\n",
       "      <td>145.389999</td>\n",
       "      <td>96.906387</td>\n",
       "      <td>332.940002</td>\n",
       "      <td>37.317860</td>\n",
       "      <td>22.293333</td>\n",
       "    </tr>\n",
       "    <tr>\n",
       "      <th>2019-01-15</th>\n",
       "      <td>36.729565</td>\n",
       "      <td>83.727997</td>\n",
       "      <td>53.857498</td>\n",
       "      <td>148.949997</td>\n",
       "      <td>99.717194</td>\n",
       "      <td>354.640015</td>\n",
       "      <td>37.176472</td>\n",
       "      <td>22.962000</td>\n",
       "    </tr>\n",
       "    <tr>\n",
       "      <th>2019-01-16</th>\n",
       "      <td>37.178268</td>\n",
       "      <td>84.189003</td>\n",
       "      <td>54.048500</td>\n",
       "      <td>147.539993</td>\n",
       "      <td>100.068550</td>\n",
       "      <td>351.390015</td>\n",
       "      <td>36.920971</td>\n",
       "      <td>23.070000</td>\n",
       "    </tr>\n",
       "    <tr>\n",
       "      <th>2019-01-17</th>\n",
       "      <td>37.399040</td>\n",
       "      <td>84.661003</td>\n",
       "      <td>54.494999</td>\n",
       "      <td>148.300003</td>\n",
       "      <td>100.771255</td>\n",
       "      <td>353.190002</td>\n",
       "      <td>37.635380</td>\n",
       "      <td>23.153999</td>\n",
       "    </tr>\n",
       "    <tr>\n",
       "      <th>2019-01-18</th>\n",
       "      <td>37.629391</td>\n",
       "      <td>84.809998</td>\n",
       "      <td>54.912998</td>\n",
       "      <td>150.039993</td>\n",
       "      <td>102.281105</td>\n",
       "      <td>339.100006</td>\n",
       "      <td>38.927765</td>\n",
       "      <td>20.150667</td>\n",
       "    </tr>\n",
       "  </tbody>\n",
       "</table>\n",
       "</div>"
      ],
      "text/plain": [
       "                 AAPL       AMZN       GOOG        META        MSFT  \\\n",
       "Date                                                                  \n",
       "2019-01-14  35.992905  80.860497  52.234501  145.389999   96.906387   \n",
       "2019-01-15  36.729565  83.727997  53.857498  148.949997   99.717194   \n",
       "2019-01-16  37.178268  84.189003  54.048500  147.539993  100.068550   \n",
       "2019-01-17  37.399040  84.661003  54.494999  148.300003  100.771255   \n",
       "2019-01-18  37.629391  84.809998  54.912998  150.039993  102.281105   \n",
       "\n",
       "                  NFLX       NVDA       TSLA  \n",
       "Date                                          \n",
       "2019-01-14  332.940002  37.317860  22.293333  \n",
       "2019-01-15  354.640015  37.176472  22.962000  \n",
       "2019-01-16  351.390015  36.920971  23.070000  \n",
       "2019-01-17  353.190002  37.635380  23.153999  \n",
       "2019-01-18  339.100006  38.927765  20.150667  "
      ]
     },
     "execution_count": 3,
     "metadata": {},
     "output_type": "execute_result"
    }
   ],
   "source": [
    "\n",
    "tickers = ['NVDA' , 'META', 'TSLA', 'AMZN','GOOG', 'AAPL' , 'MSFT','NFLX']\n",
    "stock_df = yf.download(tickers , start = \"2019-01-12\" , end = \"2024-01-12\" )['Adj Close']\n",
    "stock_df.head()"
   ]
  },
  {
   "cell_type": "code",
   "execution_count": 4,
   "id": "cb41da2a",
   "metadata": {
    "ExecuteTime": {
     "end_time": "2024-01-19T10:14:44.709489Z",
     "start_time": "2024-01-19T10:14:44.691950Z"
    }
   },
   "outputs": [
    {
     "data": {
      "text/html": [
       "<div>\n",
       "<style scoped>\n",
       "    .dataframe tbody tr th:only-of-type {\n",
       "        vertical-align: middle;\n",
       "    }\n",
       "\n",
       "    .dataframe tbody tr th {\n",
       "        vertical-align: top;\n",
       "    }\n",
       "\n",
       "    .dataframe thead th {\n",
       "        text-align: right;\n",
       "    }\n",
       "</style>\n",
       "<table border=\"1\" class=\"dataframe\">\n",
       "  <thead>\n",
       "    <tr style=\"text-align: right;\">\n",
       "      <th></th>\n",
       "      <th>AAPL</th>\n",
       "      <th>AMZN</th>\n",
       "      <th>GOOG</th>\n",
       "      <th>META</th>\n",
       "      <th>MSFT</th>\n",
       "      <th>NFLX</th>\n",
       "      <th>NVDA</th>\n",
       "      <th>TSLA</th>\n",
       "    </tr>\n",
       "    <tr>\n",
       "      <th>Date</th>\n",
       "      <th></th>\n",
       "      <th></th>\n",
       "      <th></th>\n",
       "      <th></th>\n",
       "      <th></th>\n",
       "      <th></th>\n",
       "      <th></th>\n",
       "      <th></th>\n",
       "    </tr>\n",
       "  </thead>\n",
       "  <tbody>\n",
       "    <tr>\n",
       "      <th>2019-01-15</th>\n",
       "      <td>0.020467</td>\n",
       "      <td>0.035462</td>\n",
       "      <td>0.031071</td>\n",
       "      <td>0.024486</td>\n",
       "      <td>0.029005</td>\n",
       "      <td>0.065177</td>\n",
       "      <td>-0.003789</td>\n",
       "      <td>0.029994</td>\n",
       "    </tr>\n",
       "    <tr>\n",
       "      <th>2019-01-16</th>\n",
       "      <td>0.012216</td>\n",
       "      <td>0.005506</td>\n",
       "      <td>0.003546</td>\n",
       "      <td>-0.009466</td>\n",
       "      <td>0.003524</td>\n",
       "      <td>-0.009164</td>\n",
       "      <td>-0.006873</td>\n",
       "      <td>0.004703</td>\n",
       "    </tr>\n",
       "    <tr>\n",
       "      <th>2019-01-17</th>\n",
       "      <td>0.005938</td>\n",
       "      <td>0.005606</td>\n",
       "      <td>0.008261</td>\n",
       "      <td>0.005151</td>\n",
       "      <td>0.007022</td>\n",
       "      <td>0.005122</td>\n",
       "      <td>0.019350</td>\n",
       "      <td>0.003641</td>\n",
       "    </tr>\n",
       "    <tr>\n",
       "      <th>2019-01-18</th>\n",
       "      <td>0.006159</td>\n",
       "      <td>0.001760</td>\n",
       "      <td>0.007670</td>\n",
       "      <td>0.011733</td>\n",
       "      <td>0.014983</td>\n",
       "      <td>-0.039894</td>\n",
       "      <td>0.034340</td>\n",
       "      <td>-0.129711</td>\n",
       "    </tr>\n",
       "    <tr>\n",
       "      <th>2019-01-22</th>\n",
       "      <td>-0.022446</td>\n",
       "      <td>-0.037749</td>\n",
       "      <td>-0.025258</td>\n",
       "      <td>-0.016462</td>\n",
       "      <td>-0.018847</td>\n",
       "      <td>-0.041109</td>\n",
       "      <td>-0.051998</td>\n",
       "      <td>-0.011050</td>\n",
       "    </tr>\n",
       "  </tbody>\n",
       "</table>\n",
       "</div>"
      ],
      "text/plain": [
       "                AAPL      AMZN      GOOG      META      MSFT      NFLX  \\\n",
       "Date                                                                     \n",
       "2019-01-15  0.020467  0.035462  0.031071  0.024486  0.029005  0.065177   \n",
       "2019-01-16  0.012216  0.005506  0.003546 -0.009466  0.003524 -0.009164   \n",
       "2019-01-17  0.005938  0.005606  0.008261  0.005151  0.007022  0.005122   \n",
       "2019-01-18  0.006159  0.001760  0.007670  0.011733  0.014983 -0.039894   \n",
       "2019-01-22 -0.022446 -0.037749 -0.025258 -0.016462 -0.018847 -0.041109   \n",
       "\n",
       "                NVDA      TSLA  \n",
       "Date                            \n",
       "2019-01-15 -0.003789  0.029994  \n",
       "2019-01-16 -0.006873  0.004703  \n",
       "2019-01-17  0.019350  0.003641  \n",
       "2019-01-18  0.034340 -0.129711  \n",
       "2019-01-22 -0.051998 -0.011050  "
      ]
     },
     "execution_count": 4,
     "metadata": {},
     "output_type": "execute_result"
    }
   ],
   "source": [
    "daily_returns = stock_df.pct_change().dropna()\n",
    "daily_returns.head()"
   ]
  },
  {
   "cell_type": "code",
   "execution_count": 9,
   "id": "00ea4306",
   "metadata": {
    "ExecuteTime": {
     "end_time": "2024-01-19T10:23:32.868525Z",
     "start_time": "2024-01-19T10:23:32.854624Z"
    }
   },
   "outputs": [],
   "source": [
    "def cvar( returns , alpha = 0.05):\n",
    "    var = norm.ppf(alpha)*returns.std() #calcul de la valeur methode parametrique \n",
    "    returns_less_than_var = returns[returns < -var]\n",
    "    return -returns_less_than_var.mean()"
   ]
  },
  {
   "cell_type": "code",
   "execution_count": 24,
   "id": "e2eb0ca0",
   "metadata": {
    "ExecuteTime": {
     "end_time": "2024-01-19T10:35:34.270671Z",
     "start_time": "2024-01-19T10:35:34.244234Z"
    }
   },
   "outputs": [],
   "source": [
    "cvar_dict = {}\n",
    "for tick in tickers:\n",
    "    cvar_dict[tick]= cvar(daily_returns[tick])\n",
    "cvar_df =pa.DataFrame.from_dict(cvar_dict , orient = 'index'  , columns = ['CVAR'])\n",
    "\n",
    "cvar_df= cvar_df.sort_values(by = 'CVAR', ascending = False )"
   ]
  },
  {
   "cell_type": "code",
   "execution_count": 25,
   "id": "23e01224",
   "metadata": {
    "ExecuteTime": {
     "end_time": "2024-01-19T10:35:35.993210Z",
     "start_time": "2024-01-19T10:35:35.973529Z"
    }
   },
   "outputs": [
    {
     "data": {
      "text/html": [
       "<div>\n",
       "<style scoped>\n",
       "    .dataframe tbody tr th:only-of-type {\n",
       "        vertical-align: middle;\n",
       "    }\n",
       "\n",
       "    .dataframe tbody tr th {\n",
       "        vertical-align: top;\n",
       "    }\n",
       "\n",
       "    .dataframe thead th {\n",
       "        text-align: right;\n",
       "    }\n",
       "</style>\n",
       "<table border=\"1\" class=\"dataframe\">\n",
       "  <thead>\n",
       "    <tr style=\"text-align: right;\">\n",
       "      <th></th>\n",
       "      <th>CVAR</th>\n",
       "    </tr>\n",
       "  </thead>\n",
       "  <tbody>\n",
       "    <tr>\n",
       "      <th>TSLA</th>\n",
       "      <td>0.002746</td>\n",
       "    </tr>\n",
       "    <tr>\n",
       "      <th>NFLX</th>\n",
       "      <td>0.002543</td>\n",
       "    </tr>\n",
       "    <tr>\n",
       "      <th>AMZN</th>\n",
       "      <td>0.001869</td>\n",
       "    </tr>\n",
       "    <tr>\n",
       "      <th>NVDA</th>\n",
       "      <td>0.001513</td>\n",
       "    </tr>\n",
       "    <tr>\n",
       "      <th>META</th>\n",
       "      <td>0.001500</td>\n",
       "    </tr>\n",
       "    <tr>\n",
       "      <th>GOOG</th>\n",
       "      <td>0.001251</td>\n",
       "    </tr>\n",
       "    <tr>\n",
       "      <th>MSFT</th>\n",
       "      <td>0.000613</td>\n",
       "    </tr>\n",
       "    <tr>\n",
       "      <th>AAPL</th>\n",
       "      <td>0.000607</td>\n",
       "    </tr>\n",
       "  </tbody>\n",
       "</table>\n",
       "</div>"
      ],
      "text/plain": [
       "          CVAR\n",
       "TSLA  0.002746\n",
       "NFLX  0.002543\n",
       "AMZN  0.001869\n",
       "NVDA  0.001513\n",
       "META  0.001500\n",
       "GOOG  0.001251\n",
       "MSFT  0.000613\n",
       "AAPL  0.000607"
      ]
     },
     "execution_count": 25,
     "metadata": {},
     "output_type": "execute_result"
    }
   ],
   "source": [
    "cvar_df"
   ]
  },
  {
   "cell_type": "code",
   "execution_count": 28,
   "id": "f98342c8",
   "metadata": {
    "ExecuteTime": {
     "end_time": "2024-01-19T10:40:08.837944Z",
     "start_time": "2024-01-19T10:40:08.624572Z"
    }
   },
   "outputs": [
    {
     "data": {
      "text/plain": [
       "array([[<AxesSubplot:title={'center':'CVAR'}>]], dtype=object)"
      ]
     },
     "execution_count": 28,
     "metadata": {},
     "output_type": "execute_result"
    },
    {
     "data": {
      "image/png": "[encoded data removed]",
      "text/plain": [
       "<Figure size 640x480 with 1 Axes>"
      ]
     },
     "metadata": {},
     "output_type": "display_data"
    }
   ],
   "source": [
    "cvar_df.hist( bins = [0.00005 * k for k in range(60)])"
   ]
  },
  {
   "cell_type": "code",
   "execution_count": 34,
   "id": "845ee72c",
   "metadata": {
    "ExecuteTime": {
     "end_time": "2024-01-19T10:59:21.159647Z",
     "start_time": "2024-01-19T10:59:21.119170Z"
    }
   },
   "outputs": [
    {
     "ename": "NameError",
     "evalue": "name 'value_at_risk' is not defined",
     "output_type": "error",
     "traceback": [
      "\u001b[1;31m---------------------------------------------------------------------------\u001b[0m",
      "\u001b[1;31mNameError\u001b[0m                                 Traceback (most recent call last)",
      "\u001b[1;32m~\\AppData\\Local\\Temp\\ipykernel_20216\\3052483492.py\u001b[0m in \u001b[0;36m<module>\u001b[1;34m\u001b[0m\n\u001b[0;32m      8\u001b[0m \u001b[1;33m\u001b[0m\u001b[0m\n\u001b[0;32m      9\u001b[0m \u001b[1;31m#var and cvar\u001b[0m\u001b[1;33m\u001b[0m\u001b[1;33m\u001b[0m\u001b[0m\n\u001b[1;32m---> 10\u001b[1;33m \u001b[0mVAR\u001b[0m \u001b[1;33m=\u001b[0m \u001b[0mvalue_at_risk\u001b[0m\u001b[1;33m(\u001b[0m\u001b[0mwealth\u001b[0m \u001b[1;33m,\u001b[0m \u001b[0mdaily_returns\u001b[0m \u001b[1;33m,\u001b[0m \u001b[0mweights\u001b[0m\u001b[1;33m,\u001b[0m \u001b[0malpha\u001b[0m \u001b[1;33m=\u001b[0m \u001b[1;36m0.05\u001b[0m\u001b[1;33m)\u001b[0m\u001b[1;33m\u001b[0m\u001b[1;33m\u001b[0m\u001b[0m\n\u001b[0m\u001b[0;32m     11\u001b[0m \u001b[0mVAR_retrun\u001b[0m \u001b[1;33m=\u001b[0m \u001b[0mVAR\u001b[0m\u001b[1;33m/\u001b[0m\u001b[0mwealth\u001b[0m\u001b[1;33m\u001b[0m\u001b[1;33m\u001b[0m\u001b[0m\n\u001b[0;32m     12\u001b[0m \u001b[1;33m\u001b[0m\u001b[0m\n",
      "\u001b[1;31mNameError\u001b[0m: name 'value_at_risk' is not defined"
     ]
    }
   ],
   "source": [
    "#portofolio parameters \n",
    "\n",
    "loookback_days = 500\n",
    "wealth = 10000\n",
    "weights = pa.Series(1.0/len(tickers) , index = tickers) # allocation des poids egaux\n",
    "\n",
    "protfolio_returns = daily_returns.fillna(0.0).iloc[-loookback_days:].dot(weights)\n",
    "\n",
    "#var and cvar\n",
    "VAR = value_at_risk(wealth , daily_returns , weights, alpha = 0.05)\n",
    "VAR_retrun = VAR/wealth\n",
    "\n",
    "CVAR = cvar(wealth , daily_returns , weights, alpha = 0.05)\n",
    "CVAR_return = CAVR/wealth\n",
    "\n",
    "plt.figure(figsize= (12,5) , dpi = 100 )\n",
    "plt.hist(protfolio_returns[protfolio_returns>VAR_return] , bins = 20 )\n",
    "plt.hist(protfolio_returns[protfolio_returns<VAR_return] , bins = 10)\n",
    "plt.axvline(VAR_return , color = 'red', linestyle='solid')\n",
    "plt.axvline(CVAR_return , color = 'red' ,inestyle= 'dashed')\n",
    "plt.legend(['VAR','CVAR', 'returns' ,'returns <var'])\n",
    "plt.title('historical VAr and Cvar')\n",
    "plt.xlabel('eturn')\n",
    "plt.ylabel('observation frequency')\n",
    "plt.show()"
   ]
  },
  {
   "cell_type": "code",
   "execution_count": null,
   "id": "cc470aef",
   "metadata": {},
   "outputs": [],
   "source": []
  }
 ],
 "metadata": {
  "kernelspec": {
   "display_name": "Python 3 (ipykernel)",
   "language": "python",
   "name": "python3"
  },
  "language_info": {
   "codemirror_mode": {
    "name": "ipython",
    "version": 3
   },
   "file_extension": ".py",
   "mimetype": "text/x-python",
   "name": "python",
   "nbconvert_exporter": "python",
   "pygments_lexer": "ipython3",
   "version": "3.9.13"
  },
  "toc": {
   "base_numbering": 1,
   "nav_menu": {},
   "number_sections": true,
   "sideBar": true,
   "skip_h1_title": false,
   "title_cell": "Table of Contents",
   "title_sidebar": "Contents",
   "toc_cell": false,
   "toc_position": {},
   "toc_section_display": true,
   "toc_window_display": true
  },
  "varInspector": {
   "cols": {
    "lenName": 16,
    "lenType": 16,
    "lenVar": 40
   },
   "kernels_config": {
    "python": {
     "delete_cmd_postfix": "",
     "delete_cmd_prefix": "del ",
     "library": "var_list.py",
     "varRefreshCmd": "print(var_dic_list())"
    },
    "r": {
     "delete_cmd_postfix": ") ",
     "delete_cmd_prefix": "rm(",
     "library": "var_list.r",
     "varRefreshCmd": "cat(var_dic_list()) "
    }
   },
   "types_to_exclude": [
    "module",
    "function",
    "builtin_function_or_method",
    "instance",
    "_Feature"
   ],
   "window_display": false
  }
 },
 "nbformat": 4,
 "nbformat_minor": 5
}
